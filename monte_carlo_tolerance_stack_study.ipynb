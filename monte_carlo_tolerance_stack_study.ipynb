{
 "cells": [
  {
   "cell_type": "markdown",
   "metadata": {},
   "source": [
    "### **Mike Stebbins, 2019-07-17**"
   ]
  },
  {
   "cell_type": "markdown",
   "metadata": {},
   "source": [
    "#### Calculate a factor to apply to an RSS summation of tolerances that will be as conservative as a 2 or 3-sigma value obtained from a Monte Carlo simulation"
   ]
  },
  {
   "cell_type": "markdown",
   "metadata": {},
   "source": [
    "Cases reviewed:\n",
    "* A: same magnitude tolerances: *i.e., ± 5, ± 5, ± 5, ± 5, ± 5 microns*\n",
    "* B: varying magnitude tolerances: *i.e., ± 1, ± 2, ± 3, ± 4, ± 5 microns*\n",
    "* C: tolerances are almost uniform, except for one large outlier: *i.e., ± 1, ± 1, ± 1, ± 1, ± 5 microns*"
   ]
  },
  {
   "cell_type": "code",
   "execution_count": 228,
   "metadata": {
    "collapsed": true
   },
   "outputs": [],
   "source": [
    "%matplotlib inline\n",
    "import matplotlib.pyplot as plt\n",
    "import numpy as np\n",
    "import numpy.random as random\n",
    "from scipy.stats import shapiro, normaltest"
   ]
  },
  {
   "cell_type": "code",
   "execution_count": 229,
   "metadata": {
    "collapsed": true
   },
   "outputs": [],
   "source": [
    "def return_random_tolerance(low_value,high_value):\n",
    "    if (distribution_type == 0):\n",
    "        high_bound = high_value * 1.0001\n",
    "        return random.uniform(low_value,high_bound,1)\n",
    "    if (distribution_type == 1):\n",
    "        location = (high_value+low_value)/2.0\n",
    "        #print(\"Location = \",location)\n",
    "        scale = (high_value-(high_value+low_value)/2)/3.0\n",
    "        #print (\"Scale = \",scale)\n",
    "        return random.normal(location,scale,1)"
   ]
  },
  {
   "cell_type": "code",
   "execution_count": 230,
   "metadata": {
    "collapsed": true
   },
   "outputs": [],
   "source": [
    "def random_tolerance_summing(list_of_ranges):\n",
    "    total_sum = 0.0\n",
    "    for each in list_of_ranges:\n",
    "        temp = return_random_tolerance(each[0],each[1])\n",
    "        total_sum = total_sum + temp\n",
    "    return total_sum"
   ]
  },
  {
   "cell_type": "code",
   "execution_count": 231,
   "metadata": {
    "collapsed": true
   },
   "outputs": [],
   "source": [
    "def worst_case_summing(list_of_ranges):\n",
    "    total_sum = 0.0\n",
    "    for each in list_of_ranges:\n",
    "        temp = each[1]\n",
    "        total_sum = total_sum + temp\n",
    "    return total_sum"
   ]
  },
  {
   "cell_type": "code",
   "execution_count": 232,
   "metadata": {
    "collapsed": true
   },
   "outputs": [],
   "source": [
    "def rss_summing(list_of_ranges):\n",
    "    total_sum = 0.0\n",
    "    for each in list_of_ranges:\n",
    "        temp = (each[1])**2\n",
    "        total_sum = total_sum + temp\n",
    "    return (total_sum)**(0.5)"
   ]
  },
  {
   "cell_type": "code",
   "execution_count": 233,
   "metadata": {
    "collapsed": true
   },
   "outputs": [],
   "source": [
    "def monte_carlo_summing(list_of_ranges):\n",
    "    monte_tolerance_sums = []\n",
    "    for i in range (0,number_of_iterations):\n",
    "        temp = random_tolerance_summing(list_of_ranges)\n",
    "        monte_tolerance_sums.append(temp.item())\n",
    "    return(monte_tolerance_sums)\n",
    "    #print(\"monte_tolerance_sums length = \",len(monte_tolerance_sums))\n",
    "    #plt.hist(monte_tolerance_sums, bins='auto')  # arguments are passed to np.histogram\n",
    "    #plt.title(\"Monte Carlo Tolerance Summations with \"+str(number_of_iterations)+\" Iterations\")\n",
    "    #plt.show()\n",
    "    #mean = np.mean(monte_tolerance_sums)\n",
    "    #median = np.median(monte_tolerance_sums)\n",
    "    #std_dev = np.std(monte_tolerance_sums)\n",
    "    #print(\"Mean = \",mean)\n",
    "    #print(\"Median = \",median)\n",
    "    #print(\"Standard Deviation = \",std_dev)\n",
    "    #print(\"3 * Standard Deviation = \",3*std_dev)"
   ]
  },
  {
   "cell_type": "code",
   "execution_count": 234,
   "metadata": {
    "collapsed": true
   },
   "outputs": [],
   "source": [
    "def compute_RSS_factor(worst,rss,std_dev):\n",
    "    if ((sigma_value*std_dev) < worst):\n",
    "        temp = (sigma_value*std_dev)/rss\n",
    "    else:\n",
    "        temp = worst/rss\n",
    "    return temp"
   ]
  },
  {
   "cell_type": "code",
   "execution_count": 235,
   "metadata": {
    "collapsed": true
   },
   "outputs": [],
   "source": [
    "def run_the_case(tolerances):\n",
    "    monte_carlo_sums = monte_carlo_summing(tolerances)\n",
    "    monte_carlo_stdev = np.std(monte_carlo_sums)\n",
    "    \n",
    "    if (plot_stuff == 1):\n",
    "        plt.hist(monte_carlo_sums, bins='auto')  # arguments are passed to np.histogram\n",
    "        plt.title(\"Monte Carlo Tolerance Summations with \"+str(number_of_iterations)+\" Iterations\")\n",
    "        plt.show()\n",
    "    \n",
    "    worst_case_sum = worst_case_summing(tolerances)\n",
    "    rss_sum = rss_summing(tolerances)    \n",
    "    rss_factor = compute_RSS_factor(worst_case_sum,rss_sum,monte_carlo_stdev)  \n",
    "\n",
    "    if (print_stuff == 1):\n",
    "        print(\"Monte Carlo Summation Median = %.6f\" % (np.median(monte_carlo_sums)))\n",
    "        print(\"Monte Carlo Summation %.0f Sigma = %.6f\" % (sigma_value,sigma_value*monte_carlo_stdev))\n",
    "        print(\"Worst-Case Straight Summation = %.6f\" % (worst_case_sum))\n",
    "        print(\"RSS Summation = %.6f\" % (rss_sum))\n",
    "        print(\"Factor to get RSS up to either worst case or %.0f Sigma value =  %.3f\" % (sigma_value,rss_factor))\n",
    "        print(\"\")\n",
    "    \n",
    "    return rss_factor"
   ]
  },
  {
   "cell_type": "code",
   "execution_count": 236,
   "metadata": {
    "collapsed": true
   },
   "outputs": [],
   "source": [
    "def run_many_cases(runs,tolerances):\n",
    "    factors = []\n",
    "    for i in range(0,runs):\n",
    "        if (print_stuff == 1):\n",
    "            print(\"Case #%.0f\" % (i))\n",
    "        temp = run_the_case(tolerances)\n",
    "        factors.append(temp)\n",
    "    factor_mean = np.mean(factors)\n",
    "    factor_stdev = np.std(factors)\n",
    "    print (\"Mean / StDev of factors over %.0f Cases with %.0f Tolerances = %.6f / %.6f\" % (runs,len(tolerance_ranges),factor_mean,factor_stdev))\n",
    "    return (factor_mean,factor_stdev)"
   ]
  },
  {
   "cell_type": "code",
   "execution_count": 237,
   "metadata": {},
   "outputs": [
    {
     "name": "stdout",
     "output_type": "stream",
     "text": [
      "CASE A Results:\n",
      "Mean / StDev of factors over 100 Cases with 2 Tolerances = 1.414214 / 0.000000\n"
     ]
    },
    {
     "ename": "KeyboardInterrupt",
     "evalue": "",
     "output_type": "error",
     "traceback": [
      "\u001b[1;31m---------------------------------------------------------------------------\u001b[0m",
      "\u001b[1;31mKeyboardInterrupt\u001b[0m                         Traceback (most recent call last)",
      "\u001b[1;32m<ipython-input-237-4f5e1dc30b71>\u001b[0m in \u001b[0;36m<module>\u001b[1;34m()\u001b[0m\n\u001b[0;32m     16\u001b[0m \u001b[1;33m\u001b[0m\u001b[0m\n\u001b[0;32m     17\u001b[0m \u001b[0mtolerance_ranges\u001b[0m \u001b[1;33m=\u001b[0m \u001b[1;33m[\u001b[0m\u001b[1;33m(\u001b[0m\u001b[1;33m-\u001b[0m\u001b[1;36m5.0\u001b[0m\u001b[1;33m,\u001b[0m\u001b[1;36m5.0\u001b[0m\u001b[1;33m)\u001b[0m\u001b[1;33m,\u001b[0m\u001b[1;33m(\u001b[0m\u001b[1;33m-\u001b[0m\u001b[1;36m5.0\u001b[0m\u001b[1;33m,\u001b[0m\u001b[1;36m5.0\u001b[0m\u001b[1;33m)\u001b[0m\u001b[1;33m,\u001b[0m\u001b[1;33m(\u001b[0m\u001b[1;33m-\u001b[0m\u001b[1;36m5.0\u001b[0m\u001b[1;33m,\u001b[0m\u001b[1;36m5.0\u001b[0m\u001b[1;33m)\u001b[0m\u001b[1;33m]\u001b[0m\u001b[1;33m\u001b[0m\u001b[0m\n\u001b[1;32m---> 18\u001b[1;33m \u001b[0mfactor_mean\u001b[0m\u001b[1;33m,\u001b[0m \u001b[0mfactor_stdev\u001b[0m \u001b[1;33m=\u001b[0m \u001b[0mrun_many_cases\u001b[0m\u001b[1;33m(\u001b[0m\u001b[0mnumber_of_runs\u001b[0m\u001b[1;33m,\u001b[0m\u001b[0mtolerance_ranges\u001b[0m\u001b[1;33m)\u001b[0m\u001b[1;33m\u001b[0m\u001b[0m\n\u001b[0m\u001b[0;32m     19\u001b[0m \u001b[1;33m\u001b[0m\u001b[0m\n\u001b[0;32m     20\u001b[0m \u001b[0mtolerance_ranges\u001b[0m \u001b[1;33m=\u001b[0m \u001b[1;33m[\u001b[0m\u001b[1;33m(\u001b[0m\u001b[1;33m-\u001b[0m\u001b[1;36m5.0\u001b[0m\u001b[1;33m,\u001b[0m\u001b[1;36m5.0\u001b[0m\u001b[1;33m)\u001b[0m\u001b[1;33m,\u001b[0m\u001b[1;33m(\u001b[0m\u001b[1;33m-\u001b[0m\u001b[1;36m5.0\u001b[0m\u001b[1;33m,\u001b[0m\u001b[1;36m5.0\u001b[0m\u001b[1;33m)\u001b[0m\u001b[1;33m,\u001b[0m\u001b[1;33m(\u001b[0m\u001b[1;33m-\u001b[0m\u001b[1;36m5.0\u001b[0m\u001b[1;33m,\u001b[0m\u001b[1;36m5.0\u001b[0m\u001b[1;33m)\u001b[0m\u001b[1;33m,\u001b[0m\u001b[1;33m(\u001b[0m\u001b[1;33m-\u001b[0m\u001b[1;36m5.0\u001b[0m\u001b[1;33m,\u001b[0m\u001b[1;36m5.0\u001b[0m\u001b[1;33m)\u001b[0m\u001b[1;33m]\u001b[0m\u001b[1;33m\u001b[0m\u001b[0m\n",
      "\u001b[1;32m<ipython-input-236-2f1f5bb174bc>\u001b[0m in \u001b[0;36mrun_many_cases\u001b[1;34m(runs, tolerances)\u001b[0m\n\u001b[0;32m      4\u001b[0m         \u001b[1;32mif\u001b[0m \u001b[1;33m(\u001b[0m\u001b[0mprint_stuff\u001b[0m \u001b[1;33m==\u001b[0m \u001b[1;36m1\u001b[0m\u001b[1;33m)\u001b[0m\u001b[1;33m:\u001b[0m\u001b[1;33m\u001b[0m\u001b[0m\n\u001b[0;32m      5\u001b[0m             \u001b[0mprint\u001b[0m\u001b[1;33m(\u001b[0m\u001b[1;34m\"Case #%.0f\"\u001b[0m \u001b[1;33m%\u001b[0m \u001b[1;33m(\u001b[0m\u001b[0mi\u001b[0m\u001b[1;33m)\u001b[0m\u001b[1;33m)\u001b[0m\u001b[1;33m\u001b[0m\u001b[0m\n\u001b[1;32m----> 6\u001b[1;33m         \u001b[0mtemp\u001b[0m \u001b[1;33m=\u001b[0m \u001b[0mrun_the_case\u001b[0m\u001b[1;33m(\u001b[0m\u001b[0mtolerances\u001b[0m\u001b[1;33m)\u001b[0m\u001b[1;33m\u001b[0m\u001b[0m\n\u001b[0m\u001b[0;32m      7\u001b[0m         \u001b[0mfactors\u001b[0m\u001b[1;33m.\u001b[0m\u001b[0mappend\u001b[0m\u001b[1;33m(\u001b[0m\u001b[0mtemp\u001b[0m\u001b[1;33m)\u001b[0m\u001b[1;33m\u001b[0m\u001b[0m\n\u001b[0;32m      8\u001b[0m     \u001b[0mfactor_mean\u001b[0m \u001b[1;33m=\u001b[0m \u001b[0mnp\u001b[0m\u001b[1;33m.\u001b[0m\u001b[0mmean\u001b[0m\u001b[1;33m(\u001b[0m\u001b[0mfactors\u001b[0m\u001b[1;33m)\u001b[0m\u001b[1;33m\u001b[0m\u001b[0m\n",
      "\u001b[1;32m<ipython-input-235-04893f3e7886>\u001b[0m in \u001b[0;36mrun_the_case\u001b[1;34m(tolerances)\u001b[0m\n\u001b[0;32m      1\u001b[0m \u001b[1;32mdef\u001b[0m \u001b[0mrun_the_case\u001b[0m\u001b[1;33m(\u001b[0m\u001b[0mtolerances\u001b[0m\u001b[1;33m)\u001b[0m\u001b[1;33m:\u001b[0m\u001b[1;33m\u001b[0m\u001b[0m\n\u001b[1;32m----> 2\u001b[1;33m     \u001b[0mmonte_carlo_sums\u001b[0m \u001b[1;33m=\u001b[0m \u001b[0mmonte_carlo_summing\u001b[0m\u001b[1;33m(\u001b[0m\u001b[0mtolerances\u001b[0m\u001b[1;33m)\u001b[0m\u001b[1;33m\u001b[0m\u001b[0m\n\u001b[0m\u001b[0;32m      3\u001b[0m     \u001b[0mmonte_carlo_stdev\u001b[0m \u001b[1;33m=\u001b[0m \u001b[0mnp\u001b[0m\u001b[1;33m.\u001b[0m\u001b[0mstd\u001b[0m\u001b[1;33m(\u001b[0m\u001b[0mmonte_carlo_sums\u001b[0m\u001b[1;33m)\u001b[0m\u001b[1;33m\u001b[0m\u001b[0m\n\u001b[0;32m      4\u001b[0m \u001b[1;33m\u001b[0m\u001b[0m\n\u001b[0;32m      5\u001b[0m     \u001b[1;32mif\u001b[0m \u001b[1;33m(\u001b[0m\u001b[0mplot_stuff\u001b[0m \u001b[1;33m==\u001b[0m \u001b[1;36m1\u001b[0m\u001b[1;33m)\u001b[0m\u001b[1;33m:\u001b[0m\u001b[1;33m\u001b[0m\u001b[0m\n",
      "\u001b[1;32m<ipython-input-233-c432babbcd2e>\u001b[0m in \u001b[0;36mmonte_carlo_summing\u001b[1;34m(list_of_ranges)\u001b[0m\n\u001b[0;32m      2\u001b[0m     \u001b[0mmonte_tolerance_sums\u001b[0m \u001b[1;33m=\u001b[0m \u001b[1;33m[\u001b[0m\u001b[1;33m]\u001b[0m\u001b[1;33m\u001b[0m\u001b[0m\n\u001b[0;32m      3\u001b[0m     \u001b[1;32mfor\u001b[0m \u001b[0mi\u001b[0m \u001b[1;32min\u001b[0m \u001b[0mrange\u001b[0m \u001b[1;33m(\u001b[0m\u001b[1;36m0\u001b[0m\u001b[1;33m,\u001b[0m\u001b[0mnumber_of_iterations\u001b[0m\u001b[1;33m)\u001b[0m\u001b[1;33m:\u001b[0m\u001b[1;33m\u001b[0m\u001b[0m\n\u001b[1;32m----> 4\u001b[1;33m         \u001b[0mtemp\u001b[0m \u001b[1;33m=\u001b[0m \u001b[0mrandom_tolerance_summing\u001b[0m\u001b[1;33m(\u001b[0m\u001b[0mlist_of_ranges\u001b[0m\u001b[1;33m)\u001b[0m\u001b[1;33m\u001b[0m\u001b[0m\n\u001b[0m\u001b[0;32m      5\u001b[0m         \u001b[0mmonte_tolerance_sums\u001b[0m\u001b[1;33m.\u001b[0m\u001b[0mappend\u001b[0m\u001b[1;33m(\u001b[0m\u001b[0mtemp\u001b[0m\u001b[1;33m.\u001b[0m\u001b[0mitem\u001b[0m\u001b[1;33m(\u001b[0m\u001b[1;33m)\u001b[0m\u001b[1;33m)\u001b[0m\u001b[1;33m\u001b[0m\u001b[0m\n\u001b[0;32m      6\u001b[0m     \u001b[1;32mreturn\u001b[0m\u001b[1;33m(\u001b[0m\u001b[0mmonte_tolerance_sums\u001b[0m\u001b[1;33m)\u001b[0m\u001b[1;33m\u001b[0m\u001b[0m\n",
      "\u001b[1;32m<ipython-input-230-65c577550a8e>\u001b[0m in \u001b[0;36mrandom_tolerance_summing\u001b[1;34m(list_of_ranges)\u001b[0m\n\u001b[0;32m      2\u001b[0m     \u001b[0mtotal_sum\u001b[0m \u001b[1;33m=\u001b[0m \u001b[1;36m0.0\u001b[0m\u001b[1;33m\u001b[0m\u001b[0m\n\u001b[0;32m      3\u001b[0m     \u001b[1;32mfor\u001b[0m \u001b[0meach\u001b[0m \u001b[1;32min\u001b[0m \u001b[0mlist_of_ranges\u001b[0m\u001b[1;33m:\u001b[0m\u001b[1;33m\u001b[0m\u001b[0m\n\u001b[1;32m----> 4\u001b[1;33m         \u001b[0mtemp\u001b[0m \u001b[1;33m=\u001b[0m \u001b[0mreturn_random_tolerance\u001b[0m\u001b[1;33m(\u001b[0m\u001b[0meach\u001b[0m\u001b[1;33m[\u001b[0m\u001b[1;36m0\u001b[0m\u001b[1;33m]\u001b[0m\u001b[1;33m,\u001b[0m\u001b[0meach\u001b[0m\u001b[1;33m[\u001b[0m\u001b[1;36m1\u001b[0m\u001b[1;33m]\u001b[0m\u001b[1;33m)\u001b[0m\u001b[1;33m\u001b[0m\u001b[0m\n\u001b[0m\u001b[0;32m      5\u001b[0m         \u001b[0mtotal_sum\u001b[0m \u001b[1;33m=\u001b[0m \u001b[0mtotal_sum\u001b[0m \u001b[1;33m+\u001b[0m \u001b[0mtemp\u001b[0m\u001b[1;33m\u001b[0m\u001b[0m\n\u001b[0;32m      6\u001b[0m     \u001b[1;32mreturn\u001b[0m \u001b[0mtotal_sum\u001b[0m\u001b[1;33m\u001b[0m\u001b[0m\n",
      "\u001b[1;32m<ipython-input-229-812679e620fa>\u001b[0m in \u001b[0;36mreturn_random_tolerance\u001b[1;34m(low_value, high_value)\u001b[0m\n\u001b[0;32m      2\u001b[0m     \u001b[1;32mif\u001b[0m \u001b[1;33m(\u001b[0m\u001b[0mdistribution_type\u001b[0m \u001b[1;33m==\u001b[0m \u001b[1;36m0\u001b[0m\u001b[1;33m)\u001b[0m\u001b[1;33m:\u001b[0m\u001b[1;33m\u001b[0m\u001b[0m\n\u001b[0;32m      3\u001b[0m         \u001b[0mhigh_bound\u001b[0m \u001b[1;33m=\u001b[0m \u001b[0mhigh_value\u001b[0m \u001b[1;33m*\u001b[0m \u001b[1;36m1.0001\u001b[0m\u001b[1;33m\u001b[0m\u001b[0m\n\u001b[1;32m----> 4\u001b[1;33m         \u001b[1;32mreturn\u001b[0m \u001b[0mrandom\u001b[0m\u001b[1;33m.\u001b[0m\u001b[0muniform\u001b[0m\u001b[1;33m(\u001b[0m\u001b[0mlow_value\u001b[0m\u001b[1;33m,\u001b[0m\u001b[0mhigh_bound\u001b[0m\u001b[1;33m,\u001b[0m\u001b[1;36m1\u001b[0m\u001b[1;33m)\u001b[0m\u001b[1;33m\u001b[0m\u001b[0m\n\u001b[0m\u001b[0;32m      5\u001b[0m     \u001b[1;32mif\u001b[0m \u001b[1;33m(\u001b[0m\u001b[0mdistribution_type\u001b[0m \u001b[1;33m==\u001b[0m \u001b[1;36m1\u001b[0m\u001b[1;33m)\u001b[0m\u001b[1;33m:\u001b[0m\u001b[1;33m\u001b[0m\u001b[0m\n\u001b[0;32m      6\u001b[0m         \u001b[0mlocation\u001b[0m \u001b[1;33m=\u001b[0m \u001b[1;33m(\u001b[0m\u001b[0mhigh_value\u001b[0m\u001b[1;33m+\u001b[0m\u001b[0mlow_value\u001b[0m\u001b[1;33m)\u001b[0m\u001b[1;33m/\u001b[0m\u001b[1;36m2.0\u001b[0m\u001b[1;33m\u001b[0m\u001b[0m\n",
      "\u001b[1;31mKeyboardInterrupt\u001b[0m: "
     ]
    }
   ],
   "source": [
    "# USER-DEFINED VALUES THAT YOU MAY WANT TO CHANGE\n",
    "sigma_value = 3 # 2 OR 3\n",
    "distribution_type = 0  # 0 = Uniform tolerance distribution, 1 = Normal distribution\n",
    "\n",
    "# VALUES THAT YOU COULD CHANGE, BUT PROBABLY DON'T NEED TO\n",
    "number_of_runs = 100\n",
    "number_of_iterations = 10000\n",
    "\n",
    "# DEBUG TYPE PRINT-OUTS\n",
    "print_stuff = 0  # 0 = don't print a bunch of stuff, 1 = print a bunch of stuff\n",
    "plot_stuff = 0   # 0 = don't plot a bunch of stuff, 1 = plot a bunch of stuff\n",
    "\n",
    "print(\"CASE A Results:\")\n",
    "tolerance_ranges = [(-5.0,5.0),(-5.0,5.0)]\n",
    "factor_mean, factor_stdev = run_many_cases(number_of_runs,tolerance_ranges)\n",
    "\n",
    "tolerance_ranges = [(-5.0,5.0),(-5.0,5.0),(-5.0,5.0)]\n",
    "factor_mean, factor_stdev = run_many_cases(number_of_runs,tolerance_ranges)\n",
    "\n",
    "tolerance_ranges = [(-5.0,5.0),(-5.0,5.0),(-5.0,5.0),(-5.0,5.0)]\n",
    "factor_mean, factor_stdev = run_many_cases(number_of_runs,tolerance_ranges)\n",
    "\n",
    "tolerance_ranges = [(-5.0,5.0),(-5.0,5.0),(-5.0,5.0),(-5.0,5.0),(-5.0,5.0)]\n",
    "factor_mean, factor_stdev = run_many_cases(number_of_runs,tolerance_ranges)\n",
    "print(\"-------------------------------------------------\")\n",
    "\n",
    "print(\"CASE B Results:\")\n",
    "tolerance_ranges = [(-5.0,5.0),(-1.0,1.0)]\n",
    "factor_mean, factor_stdev = run_many_cases(number_of_runs,tolerance_ranges)\n",
    "\n",
    "tolerance_ranges = [(-5.0,5.0),(-3.0,3.0),(-1.0,1.0)]\n",
    "factor_mean, factor_stdev = run_many_cases(number_of_runs,tolerance_ranges)\n",
    "\n",
    "tolerance_ranges = [(-5.0,5.0),(-3.7,3.7),(-2.3,2.3),(-1.0,1.0)]\n",
    "factor_mean, factor_stdev = run_many_cases(number_of_runs,tolerance_ranges)\n",
    "\n",
    "tolerance_ranges = [(-5.0,5.0),(-4.0,4.0),(-3.0,3.0),(-2.0,2.0),(-1.0,1.0)]\n",
    "factor_mean, factor_stdev = run_many_cases(number_of_runs,tolerance_ranges)\n",
    "print(\"-------------------------------------------------\")\n",
    "\n",
    "print(\"CASE C Results:\")\n",
    "tolerance_ranges = [(-5.0,5.0),(-1.0,1.0)]\n",
    "factor_mean, factor_stdev = run_many_cases(number_of_runs,tolerance_ranges)\n",
    "\n",
    "tolerance_ranges = [(-5.0,5.0),(-1.0,1.0),(-1.0,1.0)]\n",
    "factor_mean, factor_stdev = run_many_cases(number_of_runs,tolerance_ranges)\n",
    "\n",
    "tolerance_ranges = [(-5.0,5.0),(-1.0,1.0),(-1.0,1.0),(-1.0,1.0)]\n",
    "factor_mean, factor_stdev = run_many_cases(number_of_runs,tolerance_ranges)\n",
    "\n",
    "tolerance_ranges = [(-5.0,5.0),(-1.0,1.0),(-1.0,1.0),(-1.0,1.0),(-1.0,1.0)]\n",
    "factor_mean, factor_stdev = run_many_cases(number_of_runs,tolerance_ranges)\n",
    "print(\"-------------------------------------------------\")"
   ]
  }
 ],
 "metadata": {
  "kernelspec": {
   "display_name": "Python 3",
   "language": "python",
   "name": "python3"
  },
  "language_info": {
   "codemirror_mode": {
    "name": "ipython",
    "version": 3
   },
   "file_extension": ".py",
   "mimetype": "text/x-python",
   "name": "python",
   "nbconvert_exporter": "python",
   "pygments_lexer": "ipython3",
   "version": "3.6.1"
  }
 },
 "nbformat": 4,
 "nbformat_minor": 2
}
