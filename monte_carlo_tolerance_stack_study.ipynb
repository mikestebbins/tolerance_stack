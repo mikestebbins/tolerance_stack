{
 "cells": [
  {
   "cell_type": "markdown",
   "metadata": {},
   "source": [
    "### **Mike Stebbins, 2019-07-17**"
   ]
  },
  {
   "cell_type": "markdown",
   "metadata": {},
   "source": [
    "#### Calculate a factor to apply to an RSS summation of tolerances that will be as conservative as a 2 or 3-sigma value obtained from a Monte Carlo simulation"
   ]
  },
  {
   "cell_type": "markdown",
   "metadata": {},
   "source": [
    "Cases reviewed:\n",
    "* A: same magnitude tolerances: *i.e., ± 5, ± 5, ± 5, ± 5, ± 5 microns*\n",
    "* B: varying magnitude tolerances: *i.e., ± 1, ± 2, ± 3, ± 4, ± 5 microns*\n",
    "* C: tolerances are almost uniform, except for one large outlier: *i.e., ± 1, ± 1, ± 1, ± 1, ± 5 microns*"
   ]
  },
  {
   "cell_type": "code",
   "execution_count": 228,
   "metadata": {
    "collapsed": true
   },
   "outputs": [],
   "source": [
    "%matplotlib inline\n",
    "import matplotlib.pyplot as plt\n",
    "import numpy as np\n",
    "import numpy.random as random\n",
    "from scipy.stats import shapiro, normaltest"
   ]
  },
  {
   "cell_type": "code",
   "execution_count": 229,
   "metadata": {
    "collapsed": true
   },
   "outputs": [],
   "source": [
    "def return_random_tolerance(low_value,high_value):\n",
    "    if (distribution_type == 0):\n",
    "        high_bound = high_value * 1.0001\n",
    "        return random.uniform(low_value,high_bound,1)\n",
    "    if (distribution_type == 1):\n",
    "        location = (high_value+low_value)/2.0\n",
    "        #print(\"Location = \",location)\n",
    "        scale = (high_value-(high_value+low_value)/2)/3.0\n",
    "        #print (\"Scale = \",scale)\n",
    "        return random.normal(location,scale,1)"
   ]
  },
  {
   "cell_type": "code",
   "execution_count": 230,
   "metadata": {
    "collapsed": true
   },
   "outputs": [],
   "source": [
    "def random_tolerance_summing(list_of_ranges):\n",
    "    total_sum = 0.0\n",
    "    for each in list_of_ranges:\n",
    "        temp = return_random_tolerance(each[0],each[1])\n",
    "        total_sum = total_sum + temp\n",
    "    return total_sum"
   ]
  },
  {
   "cell_type": "code",
   "execution_count": 231,
   "metadata": {
    "collapsed": true
   },
   "outputs": [],
   "source": [
    "def worst_case_summing(list_of_ranges):\n",
    "    total_sum = 0.0\n",
    "    for each in list_of_ranges:\n",
    "        temp = each[1]\n",
    "        total_sum = total_sum + temp\n",
    "    return total_sum"
   ]
  },
  {
   "cell_type": "code",
   "execution_count": 232,
   "metadata": {
    "collapsed": true
   },
   "outputs": [],
   "source": [
    "def rss_summing(list_of_ranges):\n",
    "    total_sum = 0.0\n",
    "    for each in list_of_ranges:\n",
    "        temp = (each[1])**2\n",
    "        total_sum = total_sum + temp\n",
    "    return (total_sum)**(0.5)"
   ]
  },
  {
   "cell_type": "code",
   "execution_count": 233,
   "metadata": {
    "collapsed": true
   },
   "outputs": [],
   "source": [
    "def monte_carlo_summing(list_of_ranges):\n",
    "    monte_tolerance_sums = []\n",
    "    for i in range (0,number_of_iterations):\n",
    "        temp = random_tolerance_summing(list_of_ranges)\n",
    "        monte_tolerance_sums.append(temp.item())\n",
    "    return(monte_tolerance_sums)\n",
    "    #print(\"monte_tolerance_sums length = \",len(monte_tolerance_sums))\n",
    "    #plt.hist(monte_tolerance_sums, bins='auto')  # arguments are passed to np.histogram\n",
    "    #plt.title(\"Monte Carlo Tolerance Summations with \"+str(number_of_iterations)+\" Iterations\")\n",
    "    #plt.show()\n",
    "    #mean = np.mean(monte_tolerance_sums)\n",
    "    #median = np.median(monte_tolerance_sums)\n",
    "    #std_dev = np.std(monte_tolerance_sums)\n",
    "    #print(\"Mean = \",mean)\n",
    "    #print(\"Median = \",median)\n",
    "    #print(\"Standard Deviation = \",std_dev)\n",
    "    #print(\"3 * Standard Deviation = \",3*std_dev)"
   ]
  },
  {
   "cell_type": "code",
   "execution_count": 234,
   "metadata": {
    "collapsed": true
   },
   "outputs": [],
   "source": [
    "def compute_RSS_factor(worst,rss,std_dev):\n",
    "    if ((sigma_value*std_dev) < worst):\n",
    "        temp = (sigma_value*std_dev)/rss\n",
    "    else:\n",
    "        temp = worst/rss\n",
    "    return temp"
   ]
  },
  {
   "cell_type": "code",
   "execution_count": 235,
   "metadata": {
    "collapsed": true
   },
   "outputs": [],
   "source": [
    "def run_the_case(tolerances):\n",
    "    monte_carlo_sums = monte_carlo_summing(tolerances)\n",
    "    monte_carlo_stdev = np.std(monte_carlo_sums)\n",
    "    \n",
    "    if (plot_stuff == 1):\n",
    "        plt.hist(monte_carlo_sums, bins='auto')  # arguments are passed to np.histogram\n",
    "        plt.title(\"Monte Carlo Tolerance Summations with \"+str(number_of_iterations)+\" Iterations\")\n",
    "        plt.show()\n",
    "    \n",
    "    worst_case_sum = worst_case_summing(tolerances)\n",
    "    rss_sum = rss_summing(tolerances)    \n",
    "    rss_factor = compute_RSS_factor(worst_case_sum,rss_sum,monte_carlo_stdev)  \n",
    "\n",
    "    if (print_stuff == 1):\n",
    "        print(\"Monte Carlo Summation Median = %.6f\" % (np.median(monte_carlo_sums)))\n",
    "        print(\"Monte Carlo Summation %.0f Sigma = %.6f\" % (sigma_value,sigma_value*monte_carlo_stdev))\n",
    "        print(\"Worst-Case Straight Summation = %.6f\" % (worst_case_sum))\n",
    "        print(\"RSS Summation = %.6f\" % (rss_sum))\n",
    "        print(\"Factor to get RSS up to either worst case or %.0f Sigma value =  %.3f\" % (sigma_value,rss_factor))\n",
    "        print(\"\")\n",
    "    \n",
    "    return rss_factor"
   ]
  },
  {
   "cell_type": "code",
   "execution_count": 236,
   "metadata": {
    "collapsed": true
   },
   "outputs": [],
   "source": [
    "def run_many_cases(runs,tolerances):\n",
    "    factors = []\n",
    "    for i in range(0,runs):\n",
    "        if (print_stuff == 1):\n",
    "            print(\"Case #%.0f\" % (i))\n",
    "        temp = run_the_case(tolerances)\n",
    "        factors.append(temp)\n",
    "    factor_mean = np.mean(factors)\n",
    "    factor_stdev = np.std(factors)\n",
    "    print (\"Mean / StDev of factors over %.0f Cases with %.0f Tolerances = %.6f / %.6f\" % (runs,len(tolerance_ranges),factor_mean,factor_stdev))\n",
    "    return (factor_mean,factor_stdev)"
   ]
  }
