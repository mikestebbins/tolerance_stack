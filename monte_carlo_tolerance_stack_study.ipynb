{
 "cells": [
  {
   "cell_type": "markdown",
   "metadata": {},
   "source": [
    "### **Mike Stebbins, 2019-07-17**"
   ]
  },
  {
   "cell_type": "markdown",
   "metadata": {},
   "source": [
    "#### Calculate a factor to apply to an RSS summation of tolerances that will be as conservative as a 2 or 3-sigma value obtained from a Monte Carlo simulation"
   ]
  },
  {
   "cell_type": "markdown",
   "metadata": {},
   "source": [
    "Cases reviewed:\n",
    "* A: same magnitude tolerances: *i.e., ± 5, ± 5, ± 5, ± 5, ± 5 microns*\n",
    "* B: varying magnitude tolerances: *i.e., ± 1, ± 2, ± 3, ± 4, ± 5 microns*\n",
    "* C: tolerances are almost uniform, except for one large outlier: *i.e., ± 1, ± 1, ± 1, ± 1, ± 5 microns*"
   ]
  },
  {
   "cell_type": "code",
   "execution_count": 1,
   "metadata": {
    "collapsed": true
   },
   "outputs": [],
   "source": [
    "%matplotlib inline\n",
    "import matplotlib.pyplot as plt\n",
    "import numpy as np\n",
    "import numpy.random as random\n",
    "from scipy.stats import shapiro, normaltest"
   ]
  },
  {
   "cell_type": "code",
   "execution_count": 2,
   "metadata": {
    "collapsed": true
   },
   "outputs": [],
   "source": [
    "def return_random_tolerance(low_value,high_value):\n",
    "    if (distribution_type == 0):\n",
    "        high_bound = high_value * 1.0001\n",
    "        return random.uniform(low_value,high_bound,1)\n",
    "    if (distribution_type == 1):\n",
    "        location = (high_value+low_value)/2.0\n",
    "        #print(\"Location = \",location)\n",
    "        scale = (high_value-(high_value+low_value)/2)/3.0\n",
    "        #print (\"Scale = \",scale)\n",
    "        return random.normal(location,scale,1)"
   ]
  },
  {
   "cell_type": "code",
   "execution_count": 3,
   "metadata": {
    "collapsed": true
   },
   "outputs": [],
   "source": [
    "def random_tolerance_summing(list_of_ranges):\n",
    "    total_sum = 0.0\n",
    "    for each in list_of_ranges:\n",
    "        temp = return_random_tolerance(each[0],each[1])\n",
    "        total_sum = total_sum + temp\n",
    "    return total_sum"
   ]
  },
  {
   "cell_type": "code",
   "execution_count": 4,
   "metadata": {
    "collapsed": true
   },
   "outputs": [],
   "source": [
    "def worst_case_summing(list_of_ranges):\n",
    "    total_sum = 0.0\n",
    "    for each in list_of_ranges:\n",
    "        temp = each[1]\n",
    "        total_sum = total_sum + temp\n",
    "    return total_sum"
   ]
  },
  {
   "cell_type": "code",
   "execution_count": 5,
   "metadata": {
    "collapsed": true
   },
   "outputs": [],
   "source": [
    "def rss_summing(list_of_ranges):\n",
    "    total_sum = 0.0\n",
    "    for each in list_of_ranges:\n",
    "        temp = (each[1])**2\n",
    "        total_sum = total_sum + temp\n",
    "    return (total_sum)**(0.5)"
   ]
  },
  {
   "cell_type": "code",
   "execution_count": 6,
   "metadata": {
    "collapsed": true
   },
   "outputs": [],
   "source": [
    "def monte_carlo_summing(list_of_ranges):\n",
    "    monte_tolerance_sums = []\n",
    "    for i in range (0,number_of_iterations):\n",
    "        temp = random_tolerance_summing(list_of_ranges)\n",
    "        monte_tolerance_sums.append(temp.item())\n",
    "    return(monte_tolerance_sums)\n",
    "    #print(\"monte_tolerance_sums length = \",len(monte_tolerance_sums))\n",
    "    #plt.hist(monte_tolerance_sums, bins='auto')  # arguments are passed to np.histogram\n",
    "    #plt.title(\"Monte Carlo Tolerance Summations with \"+str(number_of_iterations)+\" Iterations\")\n",
    "    #plt.show()\n",
    "    #mean = np.mean(monte_tolerance_sums)\n",
    "    #median = np.median(monte_tolerance_sums)\n",
    "    #std_dev = np.std(monte_tolerance_sums)\n",
    "    #print(\"Mean = \",mean)\n",
    "    #print(\"Median = \",median)\n",
    "    #print(\"Standard Deviation = \",std_dev)\n",
    "    #print(\"3 * Standard Deviation = \",3*std_dev)"
   ]
  },
  {
   "cell_type": "code",
   "execution_count": 7,
   "metadata": {
    "collapsed": true
   },
   "outputs": [],
   "source": [
    "def compute_RSS_factor(worst,rss,std_dev):\n",
    "    if ((sigma_value*std_dev) < worst):\n",
    "        temp = (sigma_value*std_dev)/rss\n",
    "    else:\n",
    "        temp = worst/rss\n",
    "    return temp"
   ]
  },
  {
   "cell_type": "code",
   "execution_count": 8,
   "metadata": {
    "collapsed": true
   },
   "outputs": [],
   "source": [
    "def run_the_case(tolerances):\n",
    "    monte_carlo_sums = monte_carlo_summing(tolerances)\n",
    "    monte_carlo_stdev = np.std(monte_carlo_sums)\n",
    "    \n",
    "    if (plot_stuff == 1):\n",
    "        plt.hist(monte_carlo_sums, bins='auto')  # arguments are passed to np.histogram\n",
    "        plt.title(\"Monte Carlo Tolerance Summations with \"+str(number_of_iterations)+\" Iterations\")\n",
    "        plt.show()\n",
    "    \n",
    "    worst_case_sum = worst_case_summing(tolerances)\n",
    "    rss_sum = rss_summing(tolerances)    \n",
    "    rss_factor = compute_RSS_factor(worst_case_sum,rss_sum,monte_carlo_stdev)  \n",
    "\n",
    "    if (print_stuff == 1):\n",
    "        print(\"Monte Carlo Summation Median = %.6f\" % (np.median(monte_carlo_sums)))\n",
    "        print(\"Monte Carlo Summation %.0f Sigma = %.6f\" % (sigma_value,sigma_value*monte_carlo_stdev))\n",
    "        print(\"Worst-Case Straight Summation = %.6f\" % (worst_case_sum))\n",
    "        print(\"RSS Summation = %.6f\" % (rss_sum))\n",
    "        print(\"Factor to get RSS up to either worst case or %.0f Sigma value =  %.3f\" % (sigma_value,rss_factor))\n",
    "        print(\"\")\n",
    "    \n",
    "    return rss_factor"
   ]
  },
  {
   "cell_type": "code",
   "execution_count": 9,
   "metadata": {
    "collapsed": true
   },
   "outputs": [],
   "source": [
    "def run_many_cases(runs,tolerances):\n",
    "    factors = []\n",
    "    for i in range(0,runs):\n",
    "        if (print_stuff == 1):\n",
    "            print(\"Case #%.0f\" % (i))\n",
    "        temp = run_the_case(tolerances)\n",
    "        factors.append(temp)\n",
    "    factor_mean = np.mean(factors)\n",
    "    factor_stdev = np.std(factors)\n",
    "    print (\"Mean / StDev of factors over %.0f Cases with %.0f Tolerances = %.6f / %.6f\" % (runs,len(tolerance_ranges),factor_mean,factor_stdev))\n",
    "    return (factor_mean,factor_stdev)"
   ]
  },
  {
   "cell_type": "code",
   "execution_count": 10,
   "metadata": {},
   "outputs": [
    {
     "name": "stdout",
     "output_type": "stream",
     "text": [
      "CASE A Results:\n",
      "Mean / StDev of factors over 100 Cases with 2 Tolerances = 1.414214 / 0.000000\n",
      "Mean / StDev of factors over 100 Cases with 3 Tolerances = 1.727702 / 0.006256\n",
      "Mean / StDev of factors over 100 Cases with 4 Tolerances = 1.731637 / 0.011857\n",
      "Mean / StDev of factors over 100 Cases with 5 Tolerances = 1.732710 / 0.012018\n",
      "-------------------------------------------------\n",
      "CASE B Results:\n",
      "Mean / StDev of factors over 100 Cases with 2 Tolerances = 1.176697 / 0.000000\n",
      "Mean / StDev of factors over 100 Cases with 3 Tolerances = 1.521278 / 0.000000\n",
      "Mean / StDev of factors over 100 Cases with 4 Tolerances = 1.732777 / 0.010205\n",
      "Mean / StDev of factors over 100 Cases with 5 Tolerances = 1.732095 / 0.011000\n",
      "-------------------------------------------------\n",
      "CASE C Results:\n",
      "Mean / StDev of factors over 100 Cases with 2 Tolerances = 1.176697 / 0.000000\n",
      "Mean / StDev of factors over 100 Cases with 3 Tolerances = 1.347151 / 0.000000\n",
      "Mean / StDev of factors over 100 Cases with 4 Tolerances = 1.511858 / 0.000000\n",
      "Mean / StDev of factors over 100 Cases with 5 Tolerances = 1.671258 / 0.000000\n",
      "-------------------------------------------------\n"
     ]
    }
   ],
   "source": [
    "# USER-DEFINED VALUES THAT YOU MAY WANT TO CHANGE\n",
    "sigma_value = 3 # 2 OR 3\n",
    "distribution_type = 0  # 0 = Uniform tolerance distribution, 1 = Normal distribution\n",
    "\n",
    "# VALUES THAT YOU COULD CHANGE, BUT PROBABLY DON'T NEED TO\n",
    "number_of_runs = 100\n",
    "number_of_iterations = 10000\n",
    "\n",
    "# DEBUG TYPE PRINT-OUTS\n",
    "print_stuff = 0  # 0 = don't print a bunch of stuff, 1 = print a bunch of stuff\n",
    "plot_stuff = 0   # 0 = don't plot a bunch of stuff, 1 = plot a bunch of stuff\n",
    "\n",
    "print(\"CASE A Results:\")\n",
    "tolerance_ranges = [(-5.0,5.0),(-5.0,5.0)]\n",
    "factor_mean, factor_stdev = run_many_cases(number_of_runs,tolerance_ranges)\n",
    "\n",
    "tolerance_ranges = [(-5.0,5.0),(-5.0,5.0),(-5.0,5.0)]\n",
    "factor_mean, factor_stdev = run_many_cases(number_of_runs,tolerance_ranges)\n",
    "\n",
    "tolerance_ranges = [(-5.0,5.0),(-5.0,5.0),(-5.0,5.0),(-5.0,5.0)]\n",
    "factor_mean, factor_stdev = run_many_cases(number_of_runs,tolerance_ranges)\n",
    "\n",
    "tolerance_ranges = [(-5.0,5.0),(-5.0,5.0),(-5.0,5.0),(-5.0,5.0),(-5.0,5.0)]\n",
    "factor_mean, factor_stdev = run_many_cases(number_of_runs,tolerance_ranges)\n",
    "print(\"-------------------------------------------------\")\n",
    "\n",
    "print(\"CASE B Results:\")\n",
    "tolerance_ranges = [(-5.0,5.0),(-1.0,1.0)]\n",
    "factor_mean, factor_stdev = run_many_cases(number_of_runs,tolerance_ranges)\n",
    "\n",
    "tolerance_ranges = [(-5.0,5.0),(-3.0,3.0),(-1.0,1.0)]\n",
    "factor_mean, factor_stdev = run_many_cases(number_of_runs,tolerance_ranges)\n",
    "\n",
    "tolerance_ranges = [(-5.0,5.0),(-3.7,3.7),(-2.3,2.3),(-1.0,1.0)]\n",
    "factor_mean, factor_stdev = run_many_cases(number_of_runs,tolerance_ranges)\n",
    "\n",
    "tolerance_ranges = [(-5.0,5.0),(-4.0,4.0),(-3.0,3.0),(-2.0,2.0),(-1.0,1.0)]\n",
    "factor_mean, factor_stdev = run_many_cases(number_of_runs,tolerance_ranges)\n",
    "print(\"-------------------------------------------------\")\n",
    "\n",
    "print(\"CASE C Results:\")\n",
    "tolerance_ranges = [(-5.0,5.0),(-1.0,1.0)]\n",
    "factor_mean, factor_stdev = run_many_cases(number_of_runs,tolerance_ranges)\n",
    "\n",
    "tolerance_ranges = [(-5.0,5.0),(-1.0,1.0),(-1.0,1.0)]\n",
    "factor_mean, factor_stdev = run_many_cases(number_of_runs,tolerance_ranges)\n",
    "\n",
    "tolerance_ranges = [(-5.0,5.0),(-1.0,1.0),(-1.0,1.0),(-1.0,1.0)]\n",
    "factor_mean, factor_stdev = run_many_cases(number_of_runs,tolerance_ranges)\n",
    "\n",
    "tolerance_ranges = [(-5.0,5.0),(-1.0,1.0),(-1.0,1.0),(-1.0,1.0),(-1.0,1.0)]\n",
    "factor_mean, factor_stdev = run_many_cases(number_of_runs,tolerance_ranges)\n",
    "print(\"-------------------------------------------------\")"
   ]
  },
  {
   "cell_type": "code",
   "execution_count": null,
   "metadata": {
    "collapsed": true
   },
   "outputs": [],
   "source": []
  }
 ],
 "metadata": {
  "kernelspec": {
   "display_name": "Python 3",
   "language": "python",
   "name": "python3"
  },
  "language_info": {
   "codemirror_mode": {
    "name": "ipython",
    "version": 3
   },
   "file_extension": ".py",
   "mimetype": "text/x-python",
   "name": "python",
   "nbconvert_exporter": "python",
   "pygments_lexer": "ipython3",
   "version": "3.6.1"
  }
 },
 "nbformat": 4,
 "nbformat_minor": 2
}
